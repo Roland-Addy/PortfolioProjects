{
 "cells": [
  {
   "cell_type": "markdown",
   "metadata": {},
   "source": [
    "# AB TESTING FOR AN AD CAMPAIGN"
   ]
  },
  {
   "cell_type": "code",
   "execution_count": 1,
   "metadata": {},
   "outputs": [],
   "source": [
    "#Importing Libraries\n",
    "import numpy as np\n",
    "import pandas as pd\n",
    "import matplotlib.pyplot as plt\n",
    "np.random.seed(42)"
   ]
  },
  {
   "cell_type": "markdown",
   "metadata": {},
   "source": [
    "## Exploring the Dataset"
   ]
  },
  {
   "cell_type": "code",
   "execution_count": 2,
   "metadata": {},
   "outputs": [],
   "source": [
    "df = pd.read_excel('AB Test.xlsx')"
   ]
  },
  {
   "cell_type": "code",
   "execution_count": 3,
   "metadata": {},
   "outputs": [
    {
     "data": {
      "text/html": "<div>\n<style scoped>\n    .dataframe tbody tr th:only-of-type {\n        vertical-align: middle;\n    }\n\n    .dataframe tbody tr th {\n        vertical-align: top;\n    }\n\n    .dataframe thead th {\n        text-align: right;\n    }\n</style>\n<table border=\"1\" class=\"dataframe\">\n  <thead>\n    <tr style=\"text-align: right;\">\n      <th></th>\n      <th>group</th>\n      <th>action</th>\n    </tr>\n  </thead>\n  <tbody>\n    <tr>\n      <th>0</th>\n      <td>experiment</td>\n      <td>view</td>\n    </tr>\n    <tr>\n      <th>1</th>\n      <td>control</td>\n      <td>view</td>\n    </tr>\n    <tr>\n      <th>2</th>\n      <td>control</td>\n      <td>view and click</td>\n    </tr>\n    <tr>\n      <th>3</th>\n      <td>control</td>\n      <td>view and click</td>\n    </tr>\n    <tr>\n      <th>4</th>\n      <td>control</td>\n      <td>view</td>\n    </tr>\n    <tr>\n      <th>5</th>\n      <td>control</td>\n      <td>view</td>\n    </tr>\n    <tr>\n      <th>6</th>\n      <td>control</td>\n      <td>view</td>\n    </tr>\n    <tr>\n      <th>7</th>\n      <td>control</td>\n      <td>view</td>\n    </tr>\n    <tr>\n      <th>8</th>\n      <td>control</td>\n      <td>view</td>\n    </tr>\n    <tr>\n      <th>9</th>\n      <td>control</td>\n      <td>view and click</td>\n    </tr>\n  </tbody>\n</table>\n</div>",
      "text/plain": "        group          action\n0  experiment            view\n1     control            view\n2     control  view and click\n3     control  view and click\n4     control            view\n5     control            view\n6     control            view\n7     control            view\n8     control            view\n9     control  view and click"
     },
     "execution_count": 3,
     "metadata": {},
     "output_type": "execute_result"
    }
   ],
   "source": [
    "df.head(10)"
   ]
  },
  {
   "cell_type": "code",
   "execution_count": 5,
   "metadata": {},
   "outputs": [
    {
     "name": "stdout",
     "output_type": "stream",
     "text": [
      "<class 'pandas.core.frame.DataFrame'>\n",
      "RangeIndex: 3757 entries, 0 to 3756\n",
      "Data columns (total 2 columns):\n",
      " #   Column  Non-Null Count  Dtype \n",
      "---  ------  --------------  ----- \n",
      " 0   group   3757 non-null   object\n",
      " 1   action  3757 non-null   object\n",
      "dtypes: object(2)\n",
      "memory usage: 58.8+ KB\n"
     ]
    }
   ],
   "source": [
    "df.info()"
   ]
  },
  {
   "cell_type": "code",
   "execution_count": 7,
   "metadata": {},
   "outputs": [
    {
     "data": {
      "text/plain": "experiment    1881\ncontrol       1876\nName: group, dtype: int64"
     },
     "execution_count": 7,
     "metadata": {},
     "output_type": "execute_result"
    }
   ],
   "source": [
    "df['group'].value_counts()"
   ]
  },
  {
   "cell_type": "code",
   "execution_count": 8,
   "metadata": {},
   "outputs": [
    {
     "data": {
      "text/plain": "view              3082\nview and click     675\nName: action, dtype: int64"
     },
     "execution_count": 8,
     "metadata": {},
     "output_type": "execute_result"
    }
   ],
   "source": [
    "df['action'].value_counts()"
   ]
  },
  {
   "cell_type": "markdown",
   "metadata": {},
   "source": [
    "## Calculating and analysing the Click-Through Rates for both groups"
   ]
  },
  {
   "cell_type": "code",
   "execution_count": 19,
   "metadata": {},
   "outputs": [
    {
     "name": "stdout",
     "output_type": "stream",
     "text": [
      "        group          action\n",
      "1     control            view\n",
      "2     control  view and click\n",
      "3     control  view and click\n",
      "4     control            view\n",
      "5     control            view\n",
      "...       ...             ...\n",
      "3746  control            view\n",
      "3749  control            view\n",
      "3750  control            view\n",
      "3752  control            view\n",
      "3754  control            view\n",
      "\n",
      "[1876 rows x 2 columns]\n"
     ]
    },
    {
     "data": {
      "text/plain": "0.19349680170575692"
     },
     "execution_count": 19,
     "metadata": {},
     "output_type": "execute_result"
    }
   ],
   "source": [
    "control_df = df.query('group==\"control\"')\n",
    "print (control_df)\n",
    "\n",
    "control_ctr = control_df.query('action==\"view and click\"').index.nunique()/control_df.index.nunique()\n",
    "control_ctr"
   ]
  },
  {
   "cell_type": "code",
   "execution_count": 13,
   "metadata": {},
   "outputs": [
    {
     "data": {
      "text/plain": "0.16586921850079744"
     },
     "execution_count": 13,
     "metadata": {},
     "output_type": "execute_result"
    }
   ],
   "source": [
    "experiment_df = df.query('group==\"experiment\"')\n",
    "experiment_df\n",
    "\n",
    "experiment_ctr = experiment_df.query('action==\"view and click\"').index.nunique()/experiment_df.index.nunique()\n",
    "experiment_ctr"
   ]
  },
  {
   "cell_type": "code",
   "execution_count": 14,
   "metadata": {},
   "outputs": [
    {
     "data": {
      "text/plain": "-0.027627583204959477"
     },
     "execution_count": 14,
     "metadata": {},
     "output_type": "execute_result"
    }
   ],
   "source": [
    "diff = experiment_ctr - control_ctr\n",
    "diff"
   ]
  },
  {
   "cell_type": "markdown",
   "metadata": {},
   "source": [
    "## Creating Sample Distribution through Bootstrapping"
   ]
  },
  {
   "cell_type": "code",
   "execution_count": 17,
   "metadata": {},
   "outputs": [],
   "source": [
    "#Bootstapping\n",
    "differences = []\n",
    "size = df.shape[0]\n",
    "for i in range(10000):\n",
    "    sample = df.sample(size, replace = True)\n",
    "    control_df = sample.query('group==\"control\"')\n",
    "\n",
    "    control_ctr = control_df.query('action==\"view and click\"').index.nunique()/control_df.index.nunique()\n",
    "    \n",
    "    experiment_df = sample.query('group==\"experiment\"')\n",
    "\n",
    "    experiment_ctr = experiment_df.query('action==\"view and click\"').index.nunique()/experiment_df.index.nunique()\n",
    "\n",
    "    differences.append(experiment_ctr - control_ctr)\n",
    "\n",
    "    "
   ]
  },
  {
   "cell_type": "code",
   "execution_count": 20,
   "metadata": {},
   "outputs": [
    {
     "data": {
      "text/html": "<div>\n<style scoped>\n    .dataframe tbody tr th:only-of-type {\n        vertical-align: middle;\n    }\n\n    .dataframe tbody tr th {\n        vertical-align: top;\n    }\n\n    .dataframe thead th {\n        text-align: right;\n    }\n</style>\n<table border=\"1\" class=\"dataframe\">\n  <thead>\n    <tr style=\"text-align: right;\">\n      <th></th>\n      <th>group</th>\n      <th>action</th>\n    </tr>\n  </thead>\n  <tbody>\n    <tr>\n      <th>86</th>\n      <td>experiment</td>\n      <td>view and click</td>\n    </tr>\n    <tr>\n      <th>3555</th>\n      <td>experiment</td>\n      <td>view</td>\n    </tr>\n    <tr>\n      <th>2132</th>\n      <td>control</td>\n      <td>view</td>\n    </tr>\n    <tr>\n      <th>2744</th>\n      <td>experiment</td>\n      <td>view</td>\n    </tr>\n    <tr>\n      <th>313</th>\n      <td>control</td>\n      <td>view</td>\n    </tr>\n    <tr>\n      <th>...</th>\n      <td>...</td>\n      <td>...</td>\n    </tr>\n    <tr>\n      <th>3068</th>\n      <td>experiment</td>\n      <td>view</td>\n    </tr>\n    <tr>\n      <th>3659</th>\n      <td>control</td>\n      <td>view</td>\n    </tr>\n    <tr>\n      <th>2017</th>\n      <td>experiment</td>\n      <td>view</td>\n    </tr>\n    <tr>\n      <th>2978</th>\n      <td>control</td>\n      <td>view and click</td>\n    </tr>\n    <tr>\n      <th>883</th>\n      <td>experiment</td>\n      <td>view</td>\n    </tr>\n  </tbody>\n</table>\n<p>3757 rows × 2 columns</p>\n</div>",
      "text/plain": "           group          action\n86    experiment  view and click\n3555  experiment            view\n2132     control            view\n2744  experiment            view\n313      control            view\n...          ...             ...\n3068  experiment            view\n3659     control            view\n2017  experiment            view\n2978     control  view and click\n883   experiment            view\n\n[3757 rows x 2 columns]"
     },
     "execution_count": 20,
     "metadata": {},
     "output_type": "execute_result"
    }
   ],
   "source": [
    "df.sample(size, replace=True)"
   ]
  },
  {
   "cell_type": "markdown",
   "metadata": {},
   "source": [
    "## Evaluating the null hypothesis and drawing conclusions\n",
    "\n"
   ]
  },
  {
   "cell_type": "markdown",
   "metadata": {},
   "source": [
    "### Null Hypothesis:\n",
    "\n",
    "H0: New Ad's CTR <= Old Ad's CTR\n",
    "\n",
    "### Alternative Hypothesis:\n",
    "H1: New Ad's CTR > Old Ad's CTR"
   ]
  },
  {
   "cell_type": "code",
   "execution_count": 22,
   "metadata": {},
   "outputs": [
    {
     "data": {
      "text/plain": "(array([  22.,  140.,  664., 1721., 2755., 2632., 1465.,  503.,   89.,\n           9.]),\n array([-0.06209659, -0.05504038, -0.04798418, -0.04092797, -0.03387176,\n        -0.02681555, -0.01975934, -0.01270314, -0.00564693,  0.00140928,\n         0.00846549]),\n <BarContainer object of 10 artists>)"
     },
     "execution_count": 22,
     "metadata": {},
     "output_type": "execute_result"
    },
    {
     "data": {
      "image/png": "[encoded data removed]",
      "text/plain": "<Figure size 432x288 with 1 Axes>"
     },
     "metadata": {
      "needs_background": "light"
     },
     "output_type": "display_data"
    }
   ],
   "source": [
    "#Plotting the sample distribution\n",
    "\n",
    "differences = np.array(differences)\n",
    "plt.hist(differences)  #Normally Distributed as expected from the Central Limit Theorem\n"
   ]
  },
  {
   "cell_type": "code",
   "execution_count": 23,
   "metadata": {},
   "outputs": [
    {
     "data": {
      "text/plain": "<matplotlib.lines.Line2D at 0x7fadd0b43f10>"
     },
     "execution_count": 23,
     "metadata": {},
     "output_type": "execute_result"
    },
    {
     "data": {
      "image/png": "[encoded data removed]",
      "text/plain": "<Figure size 432x288 with 1 Axes>"
     },
     "metadata": {
      "needs_background": "light"
     },
     "output_type": "display_data"
    }
   ],
   "source": [
    "#Simulate the distribution under the null hypothesis\n",
    "null_hypothesis = np.random.normal(0, differences.std(), differences.size)\n",
    "\n",
    "plt.hist(null_hypothesis)\n",
    "\n",
    "plt.axvline(diff, c= 'red')\n"
   ]
  },
  {
   "cell_type": "markdown",
   "metadata": {},
   "source": [
    "### Hence we fail to reject the null hypothesis"
   ]
  },
  {
   "cell_type": "code",
   "execution_count": 24,
   "metadata": {},
   "outputs": [
    {
     "data": {
      "text/plain": "0.9971"
     },
     "execution_count": 24,
     "metadata": {},
     "output_type": "execute_result"
    }
   ],
   "source": [
    "# Compute the P-Value\n",
    "\n",
    "(null_hypothesis>diff).mean()"
   ]
  },
  {
   "cell_type": "code",
   "execution_count": null,
   "metadata": {},
   "outputs": [],
   "source": []
  }
 ],
 "metadata": {
  "kernelspec": {
   "display_name": "Python 3.8.8 64-bit ('base': conda)",
   "name": "python388jvsc74a57bd070bd04a62b58f9c96200d0e6faf21bf1296442cb627857bb2ef02e335009d24c"
  },
  "language_info": {
   "codemirror_mode": {
    "name": "ipython",
    "version": 3
   },
   "file_extension": ".py",
   "mimetype": "text/x-python",
   "name": "python",
   "nbconvert_exporter": "python",
   "pygments_lexer": "ipython3",
   "version": "3.8.8"
  },
  "orig_nbformat": 2
 },
 "nbformat": 4,
 "nbformat_minor": 2
}